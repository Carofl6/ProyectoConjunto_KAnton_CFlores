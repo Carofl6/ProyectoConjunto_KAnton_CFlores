{
 "cells": [
  {
   "cell_type": "markdown",
   "metadata": {},
   "source": [
    "<img style=\"float: left; margin: 30px 15px 15px 15px;\" src=\"https://pngimage.net/wp-content/uploads/2018/06/logo-iteso-png-5.png\" width=\"300\" height=\"500\" /> \n",
    "    \n",
    "    \n",
    "### <font color='navy'> Simulación de procesos financieros. \n",
    "\n",
    "**Nombres:** Karla Antón Vázquez y Carolina Flores Luelmo\n",
    "\n",
    "**Fecha:** 1 de septiembre del 2020.\n",
    "\n",
    "**Expediente** : if714572 y if713578\n",
    "**Profesor:** Oscar David Jaramillo Zuluaga.\n",
    "\n",
    "# Tarea 1: Clase 2"
   ]
  },
  {
   "cell_type": "markdown",
   "metadata": {},
   "source": [
    "## Descripción de la tarea\n",
    "1.  El archivo debe realizarse en parejas y sólo uno de los dos debe crear en su cuenta de *\"Github\"* un repositorio con el nombre **ProyectoConjunto\\_APELLIDO1\\_APELLIDO2**, a esta persona la llamaremos (ESTUDIANTE 1 ). El APELLIDO se debe de escribir (Iniciales del nombre y primer apellido), por ejemplo si yo creara el archivo lo debería de nombrar *ProyectoConjunto\\_ODJaramillo*. \n",
    "1.  Posteriormente, desde la cuenta del (ESTUDIANTE 2) 'aquel que no creó el repositorio anterior' ingresar al perfil del ESTUDIANTE 1 y en el repositorio creado en el paso 1, realizar un \"fork\" de este repositorio en su perfil, y además realizar los pasos en Gitkraken para hacer dicho repositorio \"Remoto (REMOTE)\" VER DICHO PROCEDIMIENTO EN LA CLASE **Clase2\\_GitTurorial2**.\n",
    "1.  Luego de realizados los pasos 1 y 2, el ESTUDIANTE 1 y ESTUDIANTE 2, desde su computador realizan un *clone* del repositorio creado en el numeral 1 en la carpeta que cada quién haya asignado para el curso en su PC. \n",
    "1.  Luego desde Jupyter el ESTUDIANTE 1, crear un nuevo ``notebook`` en el repositorio del paso 3. \n",
    "1.  En este nuevo notebook el ESTUDIANTE 1 y ESTUDIANTE 2, deben realizar una presentación describiendo sus expectativas del curso y la transcipción de la Figura 1 y Figura 2 respectivamente, haciendo uso de la sintaxis Markdown. Recuerden definir unas celdas donde cada usuario modificará el cuaderno de python para evitar futuros conflictos. \n",
    "\n",
    "**RECOMENDACIÓN:ANTES DE EMPEZAR A REALIZAR MUCHAS MODIFICACIONES DEL NOTEBOOK PRIMERO REALICEN CAMBIOS PEQUEÑOS EN EL ARCHIVO EN CONJUNTO Y VERIFIQUEN SI TANTO EL ``ESTUDIANTE 1`` COMO EL ``ESTUDIANTE 2``  RECIBEN LAS ACTUALIZACIONES QUE REALIZAN CADA UNO EN EL PROYECTO PARA VERIFICAR QUE EL REMOTE ESTUVO BIEN CONFIGURADO.**\n",
    ">Les recomiendo ver los siguientes enlaces para ver distintas funciones para escribir en markdown.\n",
    ">    - [Creador de tablas online](https://www.tablesgenerator.com/markdown_tables)\n",
    ">    - [Sintáxis markdown](https://joplinapp.org/markdown/)\n",
    "\n",
    "6. Cuando ya se encuentre el proyecto conjunto con la información del ESTUDIANTE 1 y ESTUDIANTE 2, el ``ESTUDIANTE 2`` el que no fue el creador del repositorio en github, debe de realizar un `pull request` con las modificaciones realizadas a el `ESTUDIANTE 1` para que éste realice un merge a la rama `master`, con las moficaciones propuestas por el `ESTUDIANTE 2`, TAL Y CÓMO SE REALIZÓ EN CLASE. (Recuerden que los pull request se generan en *Gitkraken* y se administran los comentarios o cambios propuestos por su compañero desde *Github* ''**ver Clase1\\_GitTurorial** para aclaración de dudas'' donde se explica el crear *branch y pull request*)"
   ]
  },
  {
   "cell_type": "markdown",
   "metadata": {},
   "source": [
    "#### Estudiante 1:\n",
    "Espero que las clases sean prácticas y nos dejen conocimiento práctico y útil que podamos seguir utilizando a lo largo de la carrera. Me gustaría que la materia nos enseñara a profundidad sobre ciertos temas, los cuales son:\n",
    "* Programar de manera fluida en Python.\n",
    "* Utilizar la programación como un medio útil.\n",
    "* Simular el comportamiento de activos para predecir su comportamiento futuro.\n",
    "\n",
    "##### Resumen lectura\n",
    "Python fue creado en 1989, casi 3 décadas después terminó con todos sus rivales. Sus dos ventajas principales son su flexibilidad y simplicidad. Es muy fácil de aprender, leer y compartir.\n",
    "\n",
    "A pesar de ser un programa muy bien constituido, no va a sacar de la pelea a ningún software como son Java, C++ y C, no los reemplazará, debido al control que estos ejercen sobre lo que sucede en el procesador. \n",
    "\n",
    "En mi opinion Python es un gran lenguaje, sin embargo, no lograra destituir a sus competidores debido a los diferentes componentes y grados de dificultad que tienen, python es relativamente sencillo, y muchas veces eso da en el ego de muchos de los programadores.\n",
    "\n",
    "![img1]:(https://www.economist.com/img/b/1280/1401/90/sites/default/files/20180728_WOC883.png)"
   ]
  },
  {
   "cell_type": "markdown",
   "metadata": {},
   "source": [
    "#Estudiante 2\n"
   ]
  }
 ],
 "metadata": {
  "kernelspec": {
   "display_name": "Python 3",
   "language": "python",
   "name": "python3"
  },
  "language_info": {
   "codemirror_mode": {
    "name": "ipython",
    "version": 3
   },
   "file_extension": ".py",
   "mimetype": "text/x-python",
   "name": "python",
   "nbconvert_exporter": "python",
   "pygments_lexer": "ipython3",
   "version": "3.7.3"
  }
 },
 "nbformat": 4,
 "nbformat_minor": 2
}
